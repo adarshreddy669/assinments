{
 "cells": [
  {
   "cell_type": "code",
   "execution_count": 9,
   "metadata": {},
   "outputs": [
    {
     "name": "stdout",
     "output_type": "stream",
     "text": [
      "enter a string :string\n",
      "Count of all characters in your string is :\n",
      " {'s': 1, 't': 1, 'r': 1, 'i': 1, 'n': 1, 'g': 1}\n"
     ]
    }
   ],
   "source": [
    "a=input(\"enter a string :\")\n",
    "\n",
    "b=a.strip().lower()\n",
    "\n",
    "\n",
    "c= {} \n",
    " \n",
    "for i in b: \n",
    "    if i in c: \n",
    "        c[i] += 1\n",
    "    else: \n",
    "        c[i] = 1\n",
    "  \n",
    "\n",
    "print(\"Count of all characters in your string is :\\n \"+  str(c))"
   ]
  },
  {
   "cell_type": "code",
   "execution_count": 11,
   "metadata": {},
   "outputs": [
    {
     "name": "stdout",
     "output_type": "stream",
     "text": [
      "enter a number :2341\n",
      "sum: 10\n",
      "average : 2.5\n"
     ]
    }
   ],
   "source": [
    "num=int(input(\"enter a number :\"))\n",
    "i=0\n",
    "sum=0\n",
    "num1=num\n",
    "while(num>0):\n",
    "    i=i+1\n",
    "    rem=num%10\n",
    "    sum+=rem\n",
    "    num=num//10\n",
    "print(\"sum:\",sum)\n",
    "print(\"average :\",sum/i)"
   ]
  },
  {
   "cell_type": "code",
   "execution_count": 12,
   "metadata": {},
   "outputs": [
    {
     "name": "stdout",
     "output_type": "stream",
     "text": [
      "enter a string :string\n",
      "Count of all characters in your string is :\n",
      " {'s': 1, 't': 1, 'r': 1, 'i': 1, 'n': 1, 'g': 1}\n"
     ]
    }
   ],
   "source": [
    "a=input(\"enter a string :\") \n",
    "all_freq = {} \n",
    " \n",
    "for i in a: \n",
    "    if i in all_freq: \n",
    "        all_freq[i] += 1\n",
    "    else: \n",
    "        all_freq[i] = 1\n",
    "  \n",
    "\n",
    "print(\"Count of all characters in your string is :\\n \"+  str(all_freq))"
   ]
  },
  {
   "cell_type": "code",
   "execution_count": 13,
   "metadata": {},
   "outputs": [
    {
     "name": "stdout",
     "output_type": "stream",
     "text": [
      "enter a string:STring\n"
     ]
    },
    {
     "data": {
      "text/plain": [
       "['g', 'i', 'n', 'r', 'S', 'T']"
      ]
     },
     "execution_count": 13,
     "metadata": {},
     "output_type": "execute_result"
    }
   ],
   "source": [
    "c=input(\"enter a string:\")\n",
    "sorted(c, key=str.lower)"
   ]
  },
  {
   "cell_type": "code",
   "execution_count": null,
   "metadata": {},
   "outputs": [],
   "source": [
    "s1=input(\"enter string 1 :\")\n",
    "s2=input(\"enter string 2 :\")\n",
    "\n",
    "a=(len(s1)//2)\n",
    "\n",
    "str=s1[:a]+s2+s1[a:]\n",
    "print(str)"
   ]
  },
  {
   "cell_type": "code",
   "execution_count": null,
   "metadata": {},
   "outputs": [],
   "source": []
  }
 ],
 "metadata": {
  "kernelspec": {
   "display_name": "Python 3",
   "language": "python",
   "name": "python3"
  },
  "language_info": {
   "codemirror_mode": {
    "name": "ipython",
    "version": 3
   },
   "file_extension": ".py",
   "mimetype": "text/x-python",
   "name": "python",
   "nbconvert_exporter": "python",
   "pygments_lexer": "ipython3",
   "version": "3.8.3"
  }
 },
 "nbformat": 4,
 "nbformat_minor": 4
}
