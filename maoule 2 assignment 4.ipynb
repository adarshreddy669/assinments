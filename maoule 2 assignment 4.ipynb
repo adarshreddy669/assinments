{
 "cells": [
  {
   "cell_type": "code",
   "execution_count": 12,
   "metadata": {},
   "outputs": [
    {
     "name": "stdout",
     "output_type": "stream",
     "text": [
      "1\n",
      "2\n",
      "fizz\n",
      "4\n",
      "buzz\n",
      "fizz\n",
      "7\n",
      "8\n",
      "fizz\n"
     ]
    }
   ],
   "source": [
    "for i in range(1,10):\n",
    "    if i%3==0 and i%5==0:\n",
    "        print(\"fizzbuzz\")\n",
    "    elif i%3==0:\n",
    "        print(\"fizz\")\n",
    "    elif i%5==0:\n",
    "        print(\"buzz\")\n",
    "    else:\n",
    "        print(i)\n",
    "    "
   ]
  },
  {
   "cell_type": "code",
   "execution_count": 21,
   "metadata": {},
   "outputs": [
    {
     "name": "stdout",
     "output_type": "stream",
     "text": [
      "[2, 3, 5, 1, 2]\n"
     ]
    }
   ],
   "source": [
    "list = [1,1,1,1,1,1,2,3,4,4,5,1,2]\n",
    "i = 0\n",
    "dope = False\n",
    "\n",
    "while i < len(list)-1:\n",
    "    if list[i] == list[i+1]:\n",
    "        del list[i]\n",
    "        dope = True\n",
    "    elif dope:\n",
    "        del list[i]\n",
    "        dope = False\n",
    "    else:\n",
    "        i += 1\n",
    "print(list)"
   ]
  },
  {
   "cell_type": "code",
   "execution_count": 24,
   "metadata": {},
   "outputs": [
    {
     "name": "stdout",
     "output_type": "stream",
     "text": [
      "enter a no of elements:5\n",
      "enter a number:2\n",
      "enter a number:3\n",
      "enter a number:4\n",
      "enter a number:5\n",
      "enter a number:5\n",
      "new list is: [2, 3, 4, 5]\n"
     ]
    }
   ],
   "source": [
    "a=[]\n",
    "b=int(input('enter a no of elements:'))\n",
    "for i in range(0,b):\n",
    "    c=int(input('enter a number:'))\n",
    "    a.append(c)\n",
    "    \n",
    "a2=[]\n",
    "for y in a:\n",
    "    if y not in a2:\n",
    "        a2.append(y)\n",
    "print(\"new list is:\",a2)\n",
    "\n",
    "    "
   ]
  },
  {
   "cell_type": "code",
   "execution_count": 38,
   "metadata": {},
   "outputs": [],
   "source": [
    "def a():\n",
    "    c=int(input('enter the minimum number:'))\n",
    "    b=int(input('enter the maximum number:'))\n",
    "    d=int(input(\"enter a number to check:\"))\n",
    "    k=0\n",
    "    for i in range(c,b):\n",
    "        if i==d:\n",
    "            k=1\n",
    "            break\n",
    "        else:\n",
    "            k=0\n",
    "    if k==1:\n",
    "        print(\"it is in the list\")\n",
    "    else:\n",
    "        print(\"it is not in the list\")\n",
    "        \n"
   ]
  },
  {
   "cell_type": "code",
   "execution_count": 39,
   "metadata": {},
   "outputs": [
    {
     "name": "stdout",
     "output_type": "stream",
     "text": [
      "enter the minimum number:1\n",
      "enter the maximum number:10\n",
      "enter a number to check:5\n",
      "it is in the list\n"
     ]
    }
   ],
   "source": [
    "a()"
   ]
  },
  {
   "cell_type": "code",
   "execution_count": 47,
   "metadata": {},
   "outputs": [],
   "source": [
    "def n():\n",
    "    a=input('enter a string:')\n",
    "    a.strip()\n",
    "    b=0\n",
    "    c=0\n",
    "    for i in a:\n",
    "        if i.islower():\n",
    "            b+=1\n",
    "        elif i.isupper():\n",
    "            c+=1\n",
    "        else:\n",
    "            pass\n",
    "    print('no of upper =',c)\n",
    "    print('no of lower =',b)"
   ]
  },
  {
   "cell_type": "code",
   "execution_count": 48,
   "metadata": {},
   "outputs": [
    {
     "name": "stdout",
     "output_type": "stream",
     "text": [
      "enter a string:Name\n",
      "no of upper = 1\n",
      "no of lower = 3\n"
     ]
    }
   ],
   "source": [
    "n()"
   ]
  },
  {
   "cell_type": "code",
   "execution_count": null,
   "metadata": {},
   "outputs": [],
   "source": []
  }
 ],
 "metadata": {
  "kernelspec": {
   "display_name": "Python 3",
   "language": "python",
   "name": "python3"
  },
  "language_info": {
   "codemirror_mode": {
    "name": "ipython",
    "version": 3
   },
   "file_extension": ".py",
   "mimetype": "text/x-python",
   "name": "python",
   "nbconvert_exporter": "python",
   "pygments_lexer": "ipython3",
   "version": "3.8.3"
  }
 },
 "nbformat": 4,
 "nbformat_minor": 4
}
