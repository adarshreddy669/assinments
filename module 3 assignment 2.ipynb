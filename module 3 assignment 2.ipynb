{
 "cells": [
  {
   "cell_type": "code",
   "execution_count": 32,
   "metadata": {},
   "outputs": [
    {
     "name": "stdout",
     "output_type": "stream",
     "text": [
      "enter a string:adarshreddy\n",
      "3\n"
     ]
    }
   ],
   "source": [
    "a=input(\"enter a string:\")\n",
    "b='aeiou'\n",
    "count=0\n",
    "for c in a:\n",
    "    if c in b:\n",
    "        count+=1\n",
    "print(count)\n",
    "        "
   ]
  },
  {
   "cell_type": "code",
   "execution_count": 35,
   "metadata": {},
   "outputs": [
    {
     "name": "stdout",
     "output_type": "stream",
     "text": [
      "enter a string to reverse:name of the student\n",
      " ['student', 'the', 'of', 'name']\n",
      " ['student', 'the', 'of', 'name']\n",
      " ['student', 'the', 'of', 'name']\n",
      " ['student', 'the', 'of', 'name']\n"
     ]
    }
   ],
   "source": [
    "n=input(\"enter a string to reverse:\")\n",
    "kar=n.split()\n",
    "for i in kar:\n",
    "    print(\"\",kar[::-1])"
   ]
  },
  {
   "cell_type": "code",
   "execution_count": 38,
   "metadata": {},
   "outputs": [
    {
     "name": "stdout",
     "output_type": "stream",
     "text": [
      "enter your string :nname\n",
      "name\n"
     ]
    }
   ],
   "source": [
    "word=input(\"enter your string :\")\n",
    "NewWord = \" \"\n",
    "index = 0\n",
    "for char in word:\n",
    "    if char != NewWord[index]:\n",
    "            NewWord += char\n",
    "            index += 1\n",
    "     \n",
    "print(NewWord.strip())"
   ]
  },
  {
   "cell_type": "code",
   "execution_count": 48,
   "metadata": {},
   "outputs": [
    {
     "name": "stdout",
     "output_type": "stream",
     "text": [
      "enter the string :name name student\n",
      "word's are : name\n",
      "word's are : name\n"
     ]
    }
   ],
   "source": [
    "d=input(\"enter the string :\")\n",
    "\n",
    "words = d.split() \n",
    "j=0\n",
    "for i in words:\n",
    "    if(len(words[j])%2==0):\n",
    "        print(\"word's are :\",i)\n",
    "        j=j+1"
   ]
  },
  {
   "cell_type": "code",
   "execution_count": 49,
   "metadata": {},
   "outputs": [
    {
     "name": "stdout",
     "output_type": "stream",
     "text": [
      "enter your string :student name \n",
      "NOPE NOT A BINARY STRING\n"
     ]
    }
   ],
   "source": [
    "k=input(\"enter your string :\")\n",
    "\n",
    "i=0\n",
    "j=1\n",
    "while(i<len(k)):\n",
    "    if(k[i]==\"0\" or k[i]==\"1\"):\n",
    "        print(\"ITS A BINARY STRING\")\n",
    "        break\n",
    "        \n",
    "    else:\n",
    "        j=0\n",
    "        i=i+1\n",
    "        \n",
    "if(j==0):\n",
    "    print(\"NOPE NOT A BINARY STRING\")"
   ]
  },
  {
   "cell_type": "code",
   "execution_count": null,
   "metadata": {},
   "outputs": [],
   "source": []
  }
 ],
 "metadata": {
  "kernelspec": {
   "display_name": "Python 3",
   "language": "python",
   "name": "python3"
  },
  "language_info": {
   "codemirror_mode": {
    "name": "ipython",
    "version": 3
   },
   "file_extension": ".py",
   "mimetype": "text/x-python",
   "name": "python",
   "nbconvert_exporter": "python",
   "pygments_lexer": "ipython3",
   "version": "3.8.3"
  }
 },
 "nbformat": 4,
 "nbformat_minor": 4
}
