{
 "cells": [
  {
   "cell_type": "code",
   "execution_count": 42,
   "metadata": {},
   "outputs": [],
   "source": [
    "# max of three"
   ]
  },
  {
   "cell_type": "code",
   "execution_count": 9,
   "metadata": {
    "scrolled": true
   },
   "outputs": [],
   "source": [
    "def max():\n",
    "    a=int(input(\"enter the value of a:\"))\n",
    "    b=int(input(\"enter the value of b:\"))\n",
    "    c=int(input(\"enter the value of c:\"))\n",
    "    if(a>b and c):\n",
    "        print(\"maximum is a\")\n",
    "    elif(b>a and c):\n",
    "        print(\"maximum is b\")\n",
    "    else:\n",
    "        print(\"maximum is c\")"
   ]
  },
  {
   "cell_type": "code",
   "execution_count": 10,
   "metadata": {},
   "outputs": [
    {
     "name": "stdout",
     "output_type": "stream",
     "text": [
      "enter the value of a:3\n",
      "enter the value of b:7\n",
      "enter the value of c:6\n",
      "maximum is b\n"
     ]
    }
   ],
   "source": [
    "max()"
   ]
  },
  {
   "cell_type": "code",
   "execution_count": 41,
   "metadata": {},
   "outputs": [],
   "source": [
    "# to check wether the given number is prime or not"
   ]
  },
  {
   "cell_type": "code",
   "execution_count": 31,
   "metadata": {},
   "outputs": [],
   "source": [
    "def prime():\n",
    "    a=int(input(\"enter a number to check weather a given number is prime or not:\"))\n",
    "    if(a>1):\n",
    "        for i in range(2,a):\n",
    "            if(a%i==0):\n",
    "                print(\"enterd number is not a prime\")\n",
    "                print(i,\"times\",a//i,\"is\",a)\n",
    "                break\n",
    "                int(num,\"is a prime number\")\n",
    "            else:\n",
    "                print(\"entered number is not a prime number\")\n",
    "                \n",
    "                \n",
    "            "
   ]
  },
  {
   "cell_type": "code",
   "execution_count": 32,
   "metadata": {},
   "outputs": [
    {
     "name": "stdout",
     "output_type": "stream",
     "text": [
      "enter a number to check weather a given number is prime or not:9\n",
      "entered number is not a prime number\n",
      "enterd number is not a prime\n",
      "3 times 3 is 9\n"
     ]
    }
   ],
   "source": [
    "prime()"
   ]
  },
  {
   "cell_type": "code",
   "execution_count": 57,
   "metadata": {},
   "outputs": [],
   "source": [
    "#to check wether the given number is palindrome or not"
   ]
  },
  {
   "cell_type": "code",
   "execution_count": 55,
   "metadata": {},
   "outputs": [],
   "source": [
    "def palindrome():\n",
    "        try:   \n",
    "            num=int(input(\"enter a number :\"))\n",
    "            rev=0\n",
    "            num1=num\n",
    "            while(num>0):\n",
    "                rem=num%10\n",
    "                rev=(rev*10)+rem\n",
    "                num=num//10\n",
    "            if(num1==rev):\n",
    "                print(\"YES ITS A PALINDROME..!!\")\n",
    "            else:\n",
    "                print(\"NO ITS NOT A PALINDROME..!!\")\n",
    "            \n",
    "        except:\n",
    "            print(\"please enter valid input..!!\")\n",
    "        finally:\n",
    "            print(\"final block always executed\")\n",
    "        "
   ]
  },
  {
   "cell_type": "code",
   "execution_count": 56,
   "metadata": {},
   "outputs": [
    {
     "name": "stdout",
     "output_type": "stream",
     "text": [
      "enter a number :35\n",
      "NO ITS NOT A PALINDROME..!!\n",
      "final block always executed\n"
     ]
    }
   ],
   "source": [
    "palindrome()"
   ]
  },
  {
   "cell_type": "code",
   "execution_count": 39,
   "metadata": {},
   "outputs": [],
   "source": [
    "# sum of square of n natural numbers"
   ]
  },
  {
   "cell_type": "code",
   "execution_count": 38,
   "metadata": {},
   "outputs": [
    {
     "name": "stdout",
     "output_type": "stream",
     "text": [
      "enter the number to stop the method3\n",
      "14\n"
     ]
    }
   ],
   "source": [
    "n=int(input(\"enter the number to stop the method\"))\n",
    "a=0\n",
    "for i in range(1,n+1):\n",
    "    a=a+pow(i,2)\n",
    "print(a)"
   ]
  },
  {
   "cell_type": "code",
   "execution_count": 40,
   "metadata": {},
   "outputs": [],
   "source": [
    "# reverse the string"
   ]
  },
  {
   "cell_type": "code",
   "execution_count": 20,
   "metadata": {},
   "outputs": [
    {
     "data": {
      "text/plain": [
       "'olleh'"
      ]
     },
     "execution_count": 20,
     "metadata": {},
     "output_type": "execute_result"
    }
   ],
   "source": [
    "a=('hello')\n",
    "a[::-1]"
   ]
  },
  {
   "cell_type": "code",
   "execution_count": null,
   "metadata": {},
   "outputs": [],
   "source": []
  }
 ],
 "metadata": {
  "kernelspec": {
   "display_name": "Python 3",
   "language": "python",
   "name": "python3"
  },
  "language_info": {
   "codemirror_mode": {
    "name": "ipython",
    "version": 3
   },
   "file_extension": ".py",
   "mimetype": "text/x-python",
   "name": "python",
   "nbconvert_exporter": "python",
   "pygments_lexer": "ipython3",
   "version": "3.8.3"
  }
 },
 "nbformat": 4,
 "nbformat_minor": 4
}
